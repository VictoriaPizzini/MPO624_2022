{
 "cells": [
  {
   "cell_type": "code",
   "execution_count": 1,
   "id": "ff3d1186-d11d-4e8e-89cf-26656c0e5caf",
   "metadata": {},
   "outputs": [
    {
     "ename": "Exception",
     "evalue": "Cannot load CDF C library; checked . Try 'os.environ[\"CDF_LIB\"] = library_directory' before import.",
     "output_type": "error",
     "traceback": [
      "\u001b[1;31m---------------------------------------------------------------------------\u001b[0m",
      "\u001b[1;31mException\u001b[0m                                 Traceback (most recent call last)",
      "\u001b[1;32m~\\AppData\\Local\\Temp\\ipykernel_8004\\2896105070.py\u001b[0m in \u001b[0;36m<module>\u001b[1;34m\u001b[0m\n\u001b[1;32m----> 1\u001b[1;33m \u001b[1;32mfrom\u001b[0m \u001b[0mspacepy\u001b[0m \u001b[1;32mimport\u001b[0m \u001b[0mpycdf\u001b[0m\u001b[1;33m\u001b[0m\u001b[1;33m\u001b[0m\u001b[0m\n\u001b[0m\u001b[0;32m      2\u001b[0m \u001b[0mcdf\u001b[0m \u001b[1;33m=\u001b[0m \u001b[0mpycdf\u001b[0m\u001b[1;33m.\u001b[0m\u001b[0mCDF\u001b[0m\u001b[1;33m(\u001b[0m\u001b[1;34m'Users\\torip\\Box\\P3_20210829H1_171201-223719.cdf'\u001b[0m\u001b[1;33m)\u001b[0m\u001b[1;33m\u001b[0m\u001b[1;33m\u001b[0m\u001b[0m\n\u001b[0;32m      3\u001b[0m \u001b[0mprint\u001b[0m\u001b[1;33m(\u001b[0m\u001b[0mcdf\u001b[0m\u001b[1;33m)\u001b[0m\u001b[1;33m\u001b[0m\u001b[1;33m\u001b[0m\u001b[0m\n",
      "\u001b[1;32m~\\miniconda3\\envs\\MPO624\\lib\\site-packages\\spacepy\\pycdf\\__init__.py\u001b[0m in \u001b[0;36m<module>\u001b[1;34m\u001b[0m\n\u001b[0;32m   1284\u001b[0m \u001b[0m_libpath\u001b[0m\u001b[1;33m,\u001b[0m \u001b[0m_library\u001b[0m \u001b[1;33m=\u001b[0m \u001b[0mLibrary\u001b[0m\u001b[1;33m.\u001b[0m\u001b[0m_find_lib\u001b[0m\u001b[1;33m(\u001b[0m\u001b[1;33m)\u001b[0m\u001b[1;33m\u001b[0m\u001b[1;33m\u001b[0m\u001b[0m\n\u001b[0;32m   1285\u001b[0m \u001b[1;32mif\u001b[0m \u001b[0m_library\u001b[0m \u001b[1;32mis\u001b[0m \u001b[1;32mNone\u001b[0m\u001b[1;33m:\u001b[0m\u001b[1;33m\u001b[0m\u001b[1;33m\u001b[0m\u001b[0m\n\u001b[1;32m-> 1286\u001b[1;33m     raise Exception(('Cannot load CDF C library; checked {0}. '\n\u001b[0m\u001b[0;32m   1287\u001b[0m                      \u001b[1;34m'Try \\'os.environ[\"CDF_LIB\"] = library_directory\\' '\u001b[0m\u001b[1;33m\u001b[0m\u001b[1;33m\u001b[0m\u001b[0m\n\u001b[0;32m   1288\u001b[0m                      'before import.').format(', '.join(_libpath)))\n",
      "\u001b[1;31mException\u001b[0m: Cannot load CDF C library; checked . Try 'os.environ[\"CDF_LIB\"] = library_directory' before import."
     ]
    }
   ],
   "source": [
    "from spacepy import pycdf\n",
    "\n",
    "cdf = pycdf.CDF('Users\\torip\\Box\\P3_20210829H1_171201-223719.cdf')\n",
    "print(cdf)"
   ]
  },
  {
   "cell_type": "code",
   "execution_count": null,
   "id": "07d1fa89-162a-41eb-a24a-e6e5d5a2a666",
   "metadata": {},
   "outputs": [],
   "source": []
  }
 ],
 "metadata": {
  "kernelspec": {
   "display_name": "Python 3 (ipykernel)",
   "language": "python",
   "name": "python3"
  },
  "language_info": {
   "codemirror_mode": {
    "name": "ipython",
    "version": 3
   },
   "file_extension": ".py",
   "mimetype": "text/x-python",
   "name": "python",
   "nbconvert_exporter": "python",
   "pygments_lexer": "ipython3",
   "version": "3.8.12"
  }
 },
 "nbformat": 4,
 "nbformat_minor": 5
}
