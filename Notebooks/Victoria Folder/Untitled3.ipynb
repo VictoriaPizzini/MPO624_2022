{
 "cells": [
  {
   "cell_type": "code",
   "execution_count": null,
   "id": "8fe1921b-ac9a-4ddc-8b1f-b6f0e562c4e7",
   "metadata": {},
   "outputs": [],
   "source": []
  },
  {
   "cell_type": "code",
   "execution_count": 1,
   "id": "bf6ba778-54cb-4877-808a-d7061a90a90b",
   "metadata": {},
   "outputs": [],
   "source": [
    "import plotly.express as px\n",
    "import glob\n",
    "import pandas as pd"
   ]
  },
  {
   "cell_type": "code",
   "execution_count": 9,
   "id": "5ca4ba20-0ed0-454e-a2cc-e07a1540b28f",
   "metadata": {},
   "outputs": [],
   "source": [
    "#FOLDERNAME = r'/Users/brianmapes/Box/MPO624_data/VP_hurr_sondes/20210828I1/*.csv\n",
    "#Foldername = r\"C:\\Users\\torip\\Box\\MPO624_data\\VP_hurr_sondes\\20210828I1\\*.csv\"\n",
    "FOLDERNAME = r\"C:\\Users\\torip\\Box\\Reservoir\\*.txt\""
   ]
  },
  {
   "cell_type": "code",
   "execution_count": 10,
   "id": "e6278796-ab8d-4680-a2a6-83aa4b118be7",
   "metadata": {},
   "outputs": [],
   "source": [
    "drops=[]\n",
    "for file_name in glob.glob(FOLDERNAME):\n",
    "    # print(file_name)\n",
    "    drop = pd.read_csv(file_name)\n",
    "    drops.append(drop)"
   ]
  },
  {
   "cell_type": "code",
   "execution_count": 14,
   "id": "45fe6d35-59e1-4c3c-8d63-a5699523e091",
   "metadata": {},
   "outputs": [
    {
     "ename": "AttributeError",
     "evalue": "'DataFrame' object has no attribute 'Tempr'",
     "output_type": "error",
     "traceback": [
      "\u001b[1;31m---------------------------------------------------------------------------\u001b[0m",
      "\u001b[1;31mAttributeError\u001b[0m                            Traceback (most recent call last)",
      "\u001b[1;32m~\\AppData\\Local\\Temp\\ipykernel_16832\\1076723397.py\u001b[0m in \u001b[0;36m<module>\u001b[1;34m\u001b[0m\n\u001b[0;32m      1\u001b[0m \u001b[0malldrops\u001b[0m \u001b[1;33m=\u001b[0m \u001b[0mpd\u001b[0m\u001b[1;33m.\u001b[0m\u001b[0mconcat\u001b[0m\u001b[1;33m(\u001b[0m\u001b[0mdrops\u001b[0m\u001b[1;33m)\u001b[0m\u001b[1;33m\u001b[0m\u001b[1;33m\u001b[0m\u001b[0m\n\u001b[0;32m      2\u001b[0m \u001b[1;33m\u001b[0m\u001b[0m\n\u001b[1;32m----> 3\u001b[1;33m \u001b[0mO_F\u001b[0m \u001b[1;33m=\u001b[0m \u001b[0malldrops\u001b[0m\u001b[1;33m.\u001b[0m\u001b[0mTempr\u001b[0m \u001b[1;33m-\u001b[0m \u001b[0malldrops\u001b[0m\u001b[1;33m.\u001b[0m\u001b[0mGFS6T\u001b[0m\u001b[1;33m\u001b[0m\u001b[1;33m\u001b[0m\u001b[0m\n\u001b[0m\u001b[0;32m      4\u001b[0m \u001b[0mO_A\u001b[0m \u001b[1;33m=\u001b[0m \u001b[0malldrops\u001b[0m\u001b[1;33m.\u001b[0m\u001b[0mTempr\u001b[0m \u001b[1;33m-\u001b[0m \u001b[0malldrops\u001b[0m\u001b[1;33m.\u001b[0m\u001b[0mGFS0T\u001b[0m\u001b[1;33m\u001b[0m\u001b[1;33m\u001b[0m\u001b[0m\n\u001b[0;32m      5\u001b[0m \u001b[0mA_F\u001b[0m \u001b[1;33m=\u001b[0m \u001b[0malldrops\u001b[0m\u001b[1;33m.\u001b[0m\u001b[0mGFS0T\u001b[0m \u001b[1;33m-\u001b[0m \u001b[0malldrops\u001b[0m\u001b[1;33m.\u001b[0m\u001b[0mGFS6T\u001b[0m\u001b[1;33m\u001b[0m\u001b[1;33m\u001b[0m\u001b[0m\n",
      "\u001b[1;32m~\\miniconda3\\envs\\MPO624\\lib\\site-packages\\pandas\\core\\generic.py\u001b[0m in \u001b[0;36m__getattr__\u001b[1;34m(self, name)\u001b[0m\n\u001b[0;32m   5581\u001b[0m         ):\n\u001b[0;32m   5582\u001b[0m             \u001b[1;32mreturn\u001b[0m \u001b[0mself\u001b[0m\u001b[1;33m[\u001b[0m\u001b[0mname\u001b[0m\u001b[1;33m]\u001b[0m\u001b[1;33m\u001b[0m\u001b[1;33m\u001b[0m\u001b[0m\n\u001b[1;32m-> 5583\u001b[1;33m         \u001b[1;32mreturn\u001b[0m \u001b[0mobject\u001b[0m\u001b[1;33m.\u001b[0m\u001b[0m__getattribute__\u001b[0m\u001b[1;33m(\u001b[0m\u001b[0mself\u001b[0m\u001b[1;33m,\u001b[0m \u001b[0mname\u001b[0m\u001b[1;33m)\u001b[0m\u001b[1;33m\u001b[0m\u001b[1;33m\u001b[0m\u001b[0m\n\u001b[0m\u001b[0;32m   5584\u001b[0m \u001b[1;33m\u001b[0m\u001b[0m\n\u001b[0;32m   5585\u001b[0m     \u001b[1;32mdef\u001b[0m \u001b[0m__setattr__\u001b[0m\u001b[1;33m(\u001b[0m\u001b[0mself\u001b[0m\u001b[1;33m,\u001b[0m \u001b[0mname\u001b[0m\u001b[1;33m:\u001b[0m \u001b[0mstr\u001b[0m\u001b[1;33m,\u001b[0m \u001b[0mvalue\u001b[0m\u001b[1;33m)\u001b[0m \u001b[1;33m->\u001b[0m \u001b[1;32mNone\u001b[0m\u001b[1;33m:\u001b[0m\u001b[1;33m\u001b[0m\u001b[1;33m\u001b[0m\u001b[0m\n",
      "\u001b[1;31mAttributeError\u001b[0m: 'DataFrame' object has no attribute 'Tempr'"
     ]
    }
   ],
   "source": [
    "alldrops = pd.concat(drops)\n",
    "\n",
    "O_F = alldrops.Tempr - alldrops.GFS6T\n",
    "O_A = alldrops.Tempr - alldrops.GFS0T\n",
    "A_F = alldrops.GFS0T - alldrops.GFS6T"
   ]
  },
  {
   "cell_type": "code",
   "execution_count": 13,
   "id": "9e8358fc-ab6a-4ed4-b1f9-b6fbbdaa3934",
   "metadata": {},
   "outputs": [
    {
     "ename": "NameError",
     "evalue": "name 'O_F' is not defined",
     "output_type": "error",
     "traceback": [
      "\u001b[1;31m---------------------------------------------------------------------------\u001b[0m",
      "\u001b[1;31mNameError\u001b[0m                                 Traceback (most recent call last)",
      "\u001b[1;32m~\\AppData\\Local\\Temp\\ipykernel_16832\\2718567426.py\u001b[0m in \u001b[0;36m<module>\u001b[1;34m\u001b[0m\n\u001b[0;32m      1\u001b[0m fig = px.scatter_3d(alldrops, x='LON', y='LAT', z='Z_m',\n\u001b[1;32m----> 2\u001b[1;33m                     \u001b[0mcolor\u001b[0m\u001b[1;33m=\u001b[0m\u001b[0mO_F\u001b[0m\u001b[1;33m,\u001b[0m\u001b[1;33m\u001b[0m\u001b[1;33m\u001b[0m\u001b[0m\n\u001b[0m\u001b[0;32m      3\u001b[0m                     range_color=[-4,4], color_continuous_scale=px.colors.sequential.RdBu_r)\n\u001b[0;32m      4\u001b[0m \u001b[0mfig\u001b[0m\u001b[1;33m.\u001b[0m\u001b[0mshow\u001b[0m\u001b[1;33m(\u001b[0m\u001b[1;33m)\u001b[0m\u001b[1;33m\u001b[0m\u001b[1;33m\u001b[0m\u001b[0m\n",
      "\u001b[1;31mNameError\u001b[0m: name 'O_F' is not defined"
     ]
    }
   ],
   "source": [
    "fig = px.scatter_3d(alldrops, x='LON', y='LAT', z='Z_m',\n",
    "                    color=O_F, \n",
    "                    range_color=[-4,4], color_continuous_scale=px.colors.sequential.RdBu_r)\n",
    "fig.show()"
   ]
  },
  {
   "cell_type": "code",
   "execution_count": null,
   "id": "4d52c4ba-d260-4fbd-ad7a-da78fb6dfdbd",
   "metadata": {},
   "outputs": [],
   "source": []
  }
 ],
 "metadata": {
  "kernelspec": {
   "display_name": "Python 3 (ipykernel)",
   "language": "python",
   "name": "python3"
  },
  "language_info": {
   "codemirror_mode": {
    "name": "ipython",
    "version": 3
   },
   "file_extension": ".py",
   "mimetype": "text/x-python",
   "name": "python",
   "nbconvert_exporter": "python",
   "pygments_lexer": "ipython3",
   "version": "3.8.12"
  }
 },
 "nbformat": 4,
 "nbformat_minor": 5
}
